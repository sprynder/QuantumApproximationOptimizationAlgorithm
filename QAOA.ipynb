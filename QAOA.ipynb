{
  "nbformat": 4,
  "nbformat_minor": 0,
  "metadata": {
    "colab": {
      "provenance": []
    },
    "kernelspec": {
      "name": "python3",
      "display_name": "Python 3"
    },
    "language_info": {
      "name": "python"
    }
  },
  "cells": [
    {
      "cell_type": "code",
      "source": [
        "#In case you don't have qiskit, install it now\n",
        "%pip install qiskit --quiet\n",
        "#Installing/upgrading pylatexenc seems to have fixed my mpl issue\n",
        "#If you try this and it doesn't work, try also restarting the runtime/kernel\n",
        "%pip install pylatexenc --quiet"
      ],
      "metadata": {
        "id": "Map1ouzcaUEz"
      },
      "execution_count": null,
      "outputs": []
    },
    {
      "cell_type": "code",
      "source": [
        "!pip install -Uqq ipdb\n",
        "!pip install qiskit_optimization"
      ],
      "metadata": {
        "colab": {
          "base_uri": "https://localhost:8080/"
        },
        "id": "cY0P4qCZoAei",
        "outputId": "80d17c41-36e1-4f93-be16-45afe7569ca5"
      },
      "execution_count": null,
      "outputs": [
        {
          "output_type": "stream",
          "name": "stdout",
          "text": [
            "\u001b[K     |████████████████████████████████| 793 kB 39.0 MB/s \n",
            "\u001b[K     |████████████████████████████████| 1.6 MB 40.0 MB/s \n",
            "\u001b[?25h  Building wheel for ipdb (setup.py) ... \u001b[?25l\u001b[?25hdone\n",
            "\u001b[31mERROR: pip's dependency resolver does not currently take into account all the packages that are installed. This behaviour is the source of the following dependency conflicts.\n",
            "google-colab 1.0.0 requires ipython~=7.9.0, but you have ipython 7.34.0 which is incompatible.\u001b[0m\n",
            "Looking in indexes: https://pypi.org/simple, https://us-python.pkg.dev/colab-wheels/public/simple/\n",
            "Collecting qiskit_optimization\n",
            "  Downloading qiskit_optimization-0.4.0-py3-none-any.whl (159 kB)\n",
            "\u001b[K     |████████████████████████████████| 159 kB 9.5 MB/s \n",
            "\u001b[?25hRequirement already satisfied: numpy>=1.17 in /usr/local/lib/python3.7/dist-packages (from qiskit_optimization) (1.21.6)\n",
            "Requirement already satisfied: setuptools>=40.1.0 in /usr/local/lib/python3.7/dist-packages (from qiskit_optimization) (57.4.0)\n",
            "Requirement already satisfied: networkx>=2.2 in /usr/local/lib/python3.7/dist-packages (from qiskit_optimization) (2.6.3)\n",
            "Requirement already satisfied: scipy>=1.4 in /usr/local/lib/python3.7/dist-packages (from qiskit_optimization) (1.7.3)\n",
            "Requirement already satisfied: qiskit-terra>=0.20.0 in /usr/local/lib/python3.7/dist-packages (from qiskit_optimization) (0.22.3)\n",
            "Collecting docplex>=2.21.207\n",
            "  Downloading docplex-2.24.232.tar.gz (640 kB)\n",
            "\u001b[K     |████████████████████████████████| 640 kB 57.3 MB/s \n",
            "\u001b[?25hRequirement already satisfied: six in /usr/local/lib/python3.7/dist-packages (from docplex>=2.21.207->qiskit_optimization) (1.15.0)\n",
            "Requirement already satisfied: python-dateutil>=2.8.0 in /usr/local/lib/python3.7/dist-packages (from qiskit-terra>=0.20.0->qiskit_optimization) (2.8.2)\n",
            "Requirement already satisfied: tweedledum<2.0,>=1.1 in /usr/local/lib/python3.7/dist-packages (from qiskit-terra>=0.20.0->qiskit_optimization) (1.1.1)\n",
            "Requirement already satisfied: psutil>=5 in /usr/local/lib/python3.7/dist-packages (from qiskit-terra>=0.20.0->qiskit_optimization) (5.4.8)\n",
            "Requirement already satisfied: ply>=3.10 in /usr/local/lib/python3.7/dist-packages (from qiskit-terra>=0.20.0->qiskit_optimization) (3.11)\n",
            "Requirement already satisfied: symengine>=0.9 in /usr/local/lib/python3.7/dist-packages (from qiskit-terra>=0.20.0->qiskit_optimization) (0.9.2)\n",
            "Requirement already satisfied: importlib-metadata<5.0 in /usr/local/lib/python3.7/dist-packages (from qiskit-terra>=0.20.0->qiskit_optimization) (4.13.0)\n",
            "Requirement already satisfied: typing-extensions in /usr/local/lib/python3.7/dist-packages (from qiskit-terra>=0.20.0->qiskit_optimization) (4.1.1)\n",
            "Requirement already satisfied: dill>=0.3 in /usr/local/lib/python3.7/dist-packages (from qiskit-terra>=0.20.0->qiskit_optimization) (0.3.6)\n",
            "Requirement already satisfied: shared-memory38 in /usr/local/lib/python3.7/dist-packages (from qiskit-terra>=0.20.0->qiskit_optimization) (0.1.2)\n",
            "Requirement already satisfied: sympy>=1.3 in /usr/local/lib/python3.7/dist-packages (from qiskit-terra>=0.20.0->qiskit_optimization) (1.7.1)\n",
            "Requirement already satisfied: retworkx>=0.11.0 in /usr/local/lib/python3.7/dist-packages (from qiskit-terra>=0.20.0->qiskit_optimization) (0.12.1)\n",
            "Requirement already satisfied: stevedore>=3.0.0 in /usr/local/lib/python3.7/dist-packages (from qiskit-terra>=0.20.0->qiskit_optimization) (3.5.2)\n",
            "Requirement already satisfied: zipp>=0.5 in /usr/local/lib/python3.7/dist-packages (from importlib-metadata<5.0->qiskit-terra>=0.20.0->qiskit_optimization) (3.10.0)\n",
            "Requirement already satisfied: rustworkx==0.12.1 in /usr/local/lib/python3.7/dist-packages (from retworkx>=0.11.0->qiskit-terra>=0.20.0->qiskit_optimization) (0.12.1)\n",
            "Requirement already satisfied: pbr!=2.1.0,>=2.0.0 in /usr/local/lib/python3.7/dist-packages (from stevedore>=3.0.0->qiskit-terra>=0.20.0->qiskit_optimization) (5.11.0)\n",
            "Requirement already satisfied: mpmath>=0.19 in /usr/local/lib/python3.7/dist-packages (from sympy>=1.3->qiskit-terra>=0.20.0->qiskit_optimization) (1.2.1)\n",
            "Building wheels for collected packages: docplex\n",
            "  Building wheel for docplex (setup.py) ... \u001b[?25l\u001b[?25hdone\n",
            "  Created wheel for docplex: filename=docplex-2.24.232-py3-none-any.whl size=682306 sha256=e1f0ae1d9cc90c49df77d8e84df1cde5393a335346f62fc803ec69ff753f1278\n",
            "  Stored in directory: /root/.cache/pip/wheels/0a/fe/c3/3ea4d2ba91b08c1677a8d31550ab361443ec20e626fb1dd815\n",
            "Successfully built docplex\n",
            "Installing collected packages: docplex, qiskit-optimization\n",
            "Successfully installed docplex-2.24.232 qiskit-optimization-0.4.0\n"
          ]
        }
      ]
    },
    {
      "cell_type": "code",
      "execution_count": null,
      "metadata": {
        "id": "8QZk5OuzZ4cG"
      },
      "outputs": [],
      "source": [
        "import networkx as nx\n",
        "import matplotlib.pyplot as plt\n",
        "\n",
        "from qiskit import QuantumCircuit, ClassicalRegister, QuantumRegister\n",
        "from qiskit import BasicAer\n",
        "from qiskit.compiler import transpile\n",
        "from qiskit.quantum_info.operators import Operator, Pauli\n",
        "from qiskit.quantum_info import process_fidelity\n",
        "from qiskit.extensions.hamiltonian_gate import HamiltonianGate\n",
        "from qiskit.extensions import RXGate, XGate, CXGate\n",
        "from qiskit import QuantumCircuit, QuantumRegister, ClassicalRegister, Aer, execute\n",
        "import numpy as np\n",
        "from qiskit.visualization import plot_histogram\n",
        "import ipdb\n",
        "from qiskit import QuantumCircuit, execute, Aer, IBMQ\n",
        "from qiskit.compiler import transpile, assemble\n",
        "from qiskit.tools.jupyter import *\n",
        "from qiskit.visualization import *\n",
        "#quadratic optimization\n",
        "from qiskit_optimization import QuadraticProgram\n",
        "from qiskit_optimization.converters import QuadraticProgramToQubo"
      ]
    },
    {
      "cell_type": "code",
      "source": [
        "%pdb on\n"
      ],
      "metadata": {
        "colab": {
          "base_uri": "https://localhost:8080/"
        },
        "id": "-KDmOd8YZ8E9",
        "outputId": "74003505-021f-473f-c03f-10ad4bb6a8a5"
      },
      "execution_count": null,
      "outputs": [
        {
          "output_type": "stream",
          "name": "stdout",
          "text": [
            "Automatic pdb calling has been turned ON\n"
          ]
        }
      ]
    },
    {
      "cell_type": "code",
      "source": [
        "# def ApplyCost(qc, gamma):\n",
        "#   Ix = np.array([[1,0],[0,1]])\n",
        "#   Zx= np.array([[1,0],[0,-1]])\n",
        "#   Xx = np.array([[0,1],[1,0]])\n",
        "#   Temp = (Ix-Zx)/2\n",
        "#   T = Operator(Temp)\n",
        "#   I = Operator(Ix)\n",
        "#   Z = Operator(Zx)\n",
        "#   X = Operator(Xx)\n",
        "#   FinalOp=-2*(T^I^T)-(I^T^T)-(T^I^I)+2*(I^T^I)-3*(I^I^T)\n",
        "#   ham = HamiltonianGate(FinalOp,gamma)\n",
        "#   qc.append(ham,[0,1,2])"
      ],
      "metadata": {
        "id": "BLzrJN_XaA9_"
      },
      "execution_count": null,
      "outputs": []
    },
    {
      "cell_type": "code",
      "source": [
        "task = QuadraticProgram(name = 'QUBO on QC')\n",
        "task.binary_var(name = 'x')\n",
        "task.binary_var(name = 'y')\n",
        "task.binary_var(name = 'z')\n",
        "task.minimize(linear = {\"x\":-1,\"y\":2,\"z\":-3}, quadratic = {(\"x\", \"z\"): -2, (\"y\", \"z\"): -1})\n",
        "qubo = QuadraticProgramToQubo().convert(task) #convert to QUBO\n",
        "operator, offset = qubo.to_ising()\n",
        "print(operator)\n",
        "# ham = HamiltonianGate(operator,0)\n",
        "# print(ham)"
      ],
      "metadata": {
        "id": "g-INRFmxvGgC",
        "colab": {
          "base_uri": "https://localhost:8080/"
        },
        "outputId": "7076ba31-3ce9-466e-c47b-0c968feb32a1"
      },
      "execution_count": null,
      "outputs": [
        {
          "output_type": "stream",
          "name": "stdout",
          "text": [
            "1.0 * IIZ\n",
            "- 0.75 * IZI\n",
            "+ 2.25 * ZII\n",
            "- 0.5 * ZIZ\n",
            "- 0.25 * ZZI\n"
          ]
        }
      ]
    },
    {
      "cell_type": "code",
      "source": [
        "Ix = np.array([[1,0],[0,1]])\n",
        "Zx= np.array([[1,0],[0,-1]])\n",
        "Xx = np.array([[0,1],[1,0]])\n",
        "Temp = (Ix-Zx)/2\n",
        "T = Operator(Temp)\n",
        "I = Operator(Ix)\n",
        "Z = Operator(Zx)\n",
        "X = Operator(Xx)\n",
        "FinalOp=-2*(T^I^T)-(I^T^T)-(T^I^I)+2*(I^T^I)-3*(I^I^T)\n",
        "ham = HamiltonianGate(FinalOp,0)\n",
        "print(ham)"
      ],
      "metadata": {
        "colab": {
          "base_uri": "https://localhost:8080/"
        },
        "id": "8D8Js2YVwk30",
        "outputId": "b8381206-dca2-4d23-9add-5e6fe672183d"
      },
      "execution_count": null,
      "outputs": [
        {
          "output_type": "stream",
          "name": "stdout",
          "text": [
            "Instruction(name='hamiltonian', num_qubits=3, num_clbits=0, params=[array([[ 0.+0.j,  0.+0.j,  0.+0.j,  0.+0.j,  0.+0.j,  0.+0.j,  0.+0.j,\n",
            "         0.+0.j],\n",
            "       [ 0.+0.j, -3.+0.j,  0.+0.j,  0.+0.j,  0.+0.j,  0.+0.j,  0.+0.j,\n",
            "         0.+0.j],\n",
            "       [ 0.+0.j,  0.+0.j,  2.+0.j,  0.+0.j,  0.+0.j,  0.+0.j,  0.+0.j,\n",
            "         0.+0.j],\n",
            "       [ 0.+0.j,  0.+0.j,  0.+0.j, -2.+0.j,  0.+0.j,  0.+0.j,  0.+0.j,\n",
            "         0.+0.j],\n",
            "       [ 0.+0.j,  0.+0.j,  0.+0.j,  0.+0.j, -1.+0.j,  0.+0.j,  0.+0.j,\n",
            "         0.+0.j],\n",
            "       [ 0.+0.j,  0.+0.j,  0.+0.j,  0.+0.j,  0.+0.j, -6.+0.j,  0.+0.j,\n",
            "         0.+0.j],\n",
            "       [ 0.+0.j,  0.+0.j,  0.+0.j,  0.+0.j,  0.+0.j,  0.+0.j,  1.+0.j,\n",
            "         0.+0.j],\n",
            "       [ 0.+0.j,  0.+0.j,  0.+0.j,  0.+0.j,  0.+0.j,  0.+0.j,  0.+0.j,\n",
            "        -5.+0.j]]), 0])\n"
          ]
        }
      ]
    },
    {
      "cell_type": "code",
      "source": [],
      "metadata": {
        "id": "EKT2R5Mlwkyg"
      },
      "execution_count": null,
      "outputs": []
    },
    {
      "cell_type": "code",
      "source": [
        "#define PYBIND11_DETAILED_ERROR_MESSAGES\n",
        "def compute_expectation(counts):\n",
        "    \n",
        "    \"\"\"\n",
        "    Computes expectation value based on measurement results\n",
        "    \n",
        "    Args:\n",
        "        counts: dict\n",
        "                key as bitstring, val as count\n",
        "           \n",
        "        G: networkx graph\n",
        "        \n",
        "    Returns:\n",
        "        avg: float\n",
        "             expectation value\n",
        "    \"\"\"\n",
        "    \n",
        "    avg = 0\n",
        "    sum_count = 0\n",
        "    for bitstring, count in counts.items():\n",
        "        x = int(bitstring[2])\n",
        "        y = int(bitstring[1])\n",
        "        z = int(bitstring[0])\n",
        "        obj = -2*x*z-y*z-x+2*y-3*z\n",
        "        avg += obj * count\n",
        "        sum_count += count\n",
        "        \n",
        "    return avg/sum_count\n",
        "\n",
        "\n",
        "# We will also bring the different circuit components that\n",
        "# build the qaoa circuit under a single function\n",
        "def create_qaoa_circ(theta):\n",
        "    \n",
        "    \"\"\"\n",
        "    Creates a parametrized qaoa circuit\n",
        "    \n",
        "    Args:  \n",
        "        G: networkx graph\n",
        "        theta: list\n",
        "               unitary parameters\n",
        "                     \n",
        "    Returns:\n",
        "        qc: qiskit circuit\n",
        "    \"\"\"\n",
        "    \n",
        "    nqubits = 3\n",
        "    n,m=3,3\n",
        "    p = len(theta)//2  # number of alternating unitaries\n",
        "    qc = QuantumCircuit(nqubits,nqubits)\n",
        "    Ix = np.array([[1,0],[0,1]])\n",
        "    Zx= np.array([[1,0],[0,-1]])\n",
        "    Xx = np.array([[0,1],[1,0]])\n",
        "    Temp = (Ix-Zx)/2\n",
        "    T = Operator(Temp)\n",
        "    I = Operator(Ix)\n",
        "    Z = Operator(Zx)\n",
        "    X = Operator(Xx)\n",
        "    FinalOp=-2*(Z^I^Z)-(I^Z^Z)-(Z^I^I)+2*(I^Z^I)-3*(I^I^Z)\n",
        "    beta = theta[:p]\n",
        "    gamma = theta[p:]\n",
        "    # initial_state\n",
        "    for i in range(0, nqubits):\n",
        "        qc.h(i)\n",
        "    \n",
        "    for irep in range(0, p):\n",
        "        #ipdb.set_trace(context=6)\n",
        "        # problem unitary\n",
        "        # for pair in list(G.edges()):\n",
        "        #     qc.rzz(2 * gamma[irep], pair[0], pair[1])\n",
        "        #ApplyCost(qc,2*0)\n",
        "        ham = HamiltonianGate(operator,2 * gamma[irep])\n",
        "        qc.append(ham,[0,1,2])\n",
        "        # mixer unitary\n",
        "        for i in range(0, nqubits):\n",
        "            qc.rx(2 * beta[irep], i)\n",
        "            \n",
        "    qc.measure(qc.qubits[:n],qc.clbits[:m])\n",
        "        \n",
        "    return qc\n",
        "\n",
        "# Finally we write a function that executes the circuit on the chosen backend\n",
        "def get_expectation(shots=512):\n",
        "    \n",
        "    \"\"\"\n",
        "    Runs parametrized circuit\n",
        "    \n",
        "    Args:\n",
        "        G: networkx graph\n",
        "        p: int,\n",
        "           Number of repetitions of unitaries\n",
        "    \"\"\"\n",
        "    \n",
        "    backend = Aer.get_backend('qasm_simulator')\n",
        "    backend.shots = shots\n",
        "    \n",
        "    def execute_circ(theta):\n",
        "        \n",
        "        qc = create_qaoa_circ(theta)\n",
        "        # ipdb.set_trace(context=6)\n",
        "        counts = {}\n",
        "        job = execute(qc, backend, shots=1024)\n",
        "        result = job.result()\n",
        "        counts=result.get_counts(qc)\n",
        "        \n",
        "        return compute_expectation(counts)\n",
        "    \n",
        "    return execute_circ"
      ],
      "metadata": {
        "id": "2de5U2j7fnBp"
      },
      "execution_count": null,
      "outputs": []
    },
    {
      "cell_type": "code",
      "source": [
        "from scipy.optimize import minimize\n",
        "expectation = get_expectation()\n",
        "res = minimize(expectation, [1, 1], method='COBYLA')\n"
      ],
      "metadata": {
        "id": "cXu4jvxYaKJq"
      },
      "execution_count": null,
      "outputs": []
    },
    {
      "cell_type": "code",
      "source": [
        "expectation = get_expectation()\n",
        "res = minimize(expectation, res.x, method='COBYLA')\n",
        "res"
      ],
      "metadata": {
        "colab": {
          "base_uri": "https://localhost:8080/"
        },
        "id": "mMNagd_-e6I3",
        "outputId": "d8be2b80-4ebd-4c86-dcfe-96ff724c0c06"
      },
      "execution_count": null,
      "outputs": [
        {
          "output_type": "execute_result",
          "data": {
            "text/plain": [
              "     fun: -4.97265625\n",
              "   maxcv: 0.0\n",
              " message: 'Optimization terminated successfully.'\n",
              "    nfev: 30\n",
              "  status: 1\n",
              " success: True\n",
              "       x: array([2.25721263, 0.18439912])"
            ]
          },
          "metadata": {},
          "execution_count": 11
        }
      ]
    },
    {
      "cell_type": "code",
      "source": [
        "\n",
        "from qiskit.visualization import plot_histogram\n",
        "\n",
        "backend = Aer.get_backend('aer_simulator')\n",
        "backend.shots = 512\n",
        "\n",
        "qc_res = create_qaoa_circ(res.x)\n",
        "\n",
        "backend = Aer.get_backend('qasm_simulator')\n",
        "job = execute(qc_res, backend, shots=1024)\n",
        "result = job.result()\n",
        "counts=result.get_counts(qc_res)\n",
        "plot_histogram(counts)"
      ],
      "metadata": {
        "colab": {
          "base_uri": "https://localhost:8080/",
          "height": 340
        },
        "id": "zkRvZ-glaLpw",
        "outputId": "248051dc-0092-4ce6-df85-3825b89fbdec"
      },
      "execution_count": null,
      "outputs": [
        {
          "output_type": "execute_result",
          "data": {
            "text/plain": [
              "<Figure size 504x360 with 1 Axes>"
            ],
            "image/png": "[encoded data removed]"
          },
          "metadata": {},
          "execution_count": 12
        }
      ]
    }
  ]
}